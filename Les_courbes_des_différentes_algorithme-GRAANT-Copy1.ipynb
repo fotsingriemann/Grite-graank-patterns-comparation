{
 "cells": [
  {
   "cell_type": "markdown",
   "id": "19409236",
   "metadata": {
    "id": "19409236"
   },
   "source": [
    "# Import des libraries"
   ]
  },
  {
   "cell_type": "code",
   "execution_count": 6,
   "id": "ae9ad6f8",
   "metadata": {
    "id": "ae9ad6f8"
   },
   "outputs": [],
   "source": [
    "import numpy as np\n",
    "import pandas as pd\n",
    "import itertools\n",
    "import re\n",
    "import time\n",
    "import matplotlib.pyplot as plt\n",
    "import psutil"
   ]
  },
  {
   "cell_type": "markdown",
   "id": "b9f3878a",
   "metadata": {
    "id": "b9f3878a"
   },
   "source": [
    "# Algorithme Graant."
   ]
  },
  {
   "cell_type": "code",
   "execution_count": 2,
   "id": "365bc11c",
   "metadata": {
    "id": "365bc11c"
   },
   "outputs": [],
   "source": [
    "def generateMatrixOfSingle(dataset, attribut, sign='plus'):\n",
    "        a = list()\n",
    "        f_list = list()\n",
    "        for i in range(len(dataset[attribut])):\n",
    "            for j in range(len(dataset[attribut])):\n",
    "                if i == j :\n",
    "                    a.append(0)\n",
    "                else:\n",
    "                    if(dataset[attribut][j] >= dataset[attribut][i]):\n",
    "                        a.append(1)\n",
    "                    else:\n",
    "                        a.append(0)\n",
    "            f_list.append(a)\n",
    "            a = list()\n",
    "\n",
    "        f_list = np.array(f_list)\n",
    "        for i in range(f_list.shape[0]):\n",
    "            for j in range(f_list.shape[1]):\n",
    "                if(f_list[i][j] == 1):\n",
    "                    f_list[j][i] = 0\n",
    "        return np.array(f_list)\n",
    "\n",
    "def generateMatrixOfSingleinf(dataset, attribut, sign='moin'):\n",
    "        a = list()\n",
    "        f_list = list()\n",
    "        for i in range(len(dataset[attribut])):\n",
    "            for j in range(len(dataset[attribut])):\n",
    "                if i == j :\n",
    "                    a.append(0)\n",
    "                else:\n",
    "                    if(dataset[attribut][j] <= dataset[attribut][i]):\n",
    "                        a.append(1)\n",
    "                    else:\n",
    "                        a.append(0)\n",
    "            f_list.append(a)\n",
    "            a = list()\n",
    "\n",
    "        f_list = np.array(f_list)\n",
    "        for i in range(f_list.shape[0]):\n",
    "            for j in range(f_list.shape[1]):\n",
    "                if(f_list[i][j] == 1):\n",
    "                    f_list[j][i] = 0\n",
    "        return np.array(f_list)"
   ]
  },
  {
   "cell_type": "code",
   "execution_count": 3,
   "id": "5301f24a",
   "metadata": {
    "id": "5301f24a"
   },
   "outputs": [],
   "source": [
    "def purify(list_set_string):\n",
    "    dechet = []\n",
    "    not_complementrary = []\n",
    "    for elm in list_set_string:\n",
    "        p = list(map(lambda x: x.replace('+','').replace('-',''),list(elm)))\n",
    "        if len(p) != len(set(p)):\n",
    "            dechet.append(elm)\n",
    "    for de in dechet:\n",
    "        list_set_string.remove(de)"
   ]
  },
  {
   "cell_type": "code",
   "execution_count": 4,
   "id": "5929a4b5",
   "metadata": {
    "id": "5929a4b5"
   },
   "outputs": [],
   "source": [
    "def generatPatern(dataset, minsup):\n",
    "    pattern = dict()\n",
    "    attributs = list(dataset.columns)\n",
    "    for i in attributs :\n",
    "        matrix_plus = generateMatrixOfSingle(dataset,i, sign='plus')\n",
    "        matrix_moin = generateMatrixOfSingleinf(dataset,i,'moin')\n",
    "        sup_plus = computeSupportGraant(matrix_plus)\n",
    "        sup_moin = computeSupportGraant(matrix_moin)\n",
    "        if(sup_plus >= minsup):\n",
    "            pattern[i+'+'] = (matrix_plus, sup_plus)\n",
    "\n",
    "        if(sup_moin >= minsup):\n",
    "            pattern[i+'-'] = (matrix_moin, sup_moin)\n",
    "    return pattern\n"
   ]
  },
  {
   "cell_type": "code",
   "execution_count": 5,
   "id": "c8cb6745",
   "metadata": {
    "id": "c8cb6745"
   },
   "outputs": [],
   "source": [
    "def findsubsets(s, n):\n",
    "    return list(map(set,itertools.combinations(s, n)))"
   ]
  },
  {
   "cell_type": "code",
   "execution_count": 6,
   "id": "77dbb11c",
   "metadata": {
    "id": "77dbb11c"
   },
   "outputs": [],
   "source": [
    "def reunion(list_set):\n",
    "    if len(list_set) <= 1: return list_set\n",
    "    else :\n",
    "      lest_init = set()\n",
    "      for i in range(len(list_set)):\n",
    "        lest_init = lest_init.union(list_set[i])\n",
    "    return lest_init"
   ]
  },
  {
   "cell_type": "code",
   "execution_count": 7,
   "id": "c4d4e5c7",
   "metadata": {
    "id": "c4d4e5c7"
   },
   "outputs": [],
   "source": [
    "def print_pattern_mined(patterns):\n",
    "    for key, value in zip(patterns.keys(),patterns.values()):\n",
    "        print(f\"{key} ({value[1]}) ({value[2]})\")\n",
    "    print(f\"{len(patterns)} patterns mined\")\n",
    "\n",
    "    return len(patterns)"
   ]
  },
  {
   "cell_type": "code",
   "execution_count": 8,
   "id": "f04e62cc",
   "metadata": {
    "id": "f04e62cc"
   },
   "outputs": [],
   "source": [
    "def parents(son, matrix):\n",
    "    element_parent = list()\n",
    "    for line in range(matrix.shape[0]):\n",
    "        if(matrix[line][son] == 1):\n",
    "            element_parent.append(line)\n",
    "    return element_parent"
   ]
  },
  {
   "cell_type": "code",
   "execution_count": 9,
   "id": "bfc1c008",
   "metadata": {
    "id": "bfc1c008"
   },
   "outputs": [],
   "source": [
    "def getSongs(father, matrix):\n",
    "    sons = list()\n",
    "    for col in range(len(matrix[father])):\n",
    "        if(matrix[father][col] == 1):\n",
    "            sons.append(col)\n",
    "    return sons"
   ]
  },
  {
   "cell_type": "code",
   "execution_count": 10,
   "id": "5a9d3a49",
   "metadata": {
    "id": "5a9d3a49"
   },
   "outputs": [],
   "source": [
    "def getLeafs(matrix):\n",
    "    leafs = list()\n",
    "    for line_index in range(matrix.shape[0]):\n",
    "        if sum(matrix[line_index]) == 0:\n",
    "            leafs.append(line_index)\n",
    "    return leafs"
   ]
  },
  {
   "cell_type": "code",
   "execution_count": 11,
   "id": "f48b0e21",
   "metadata": {
    "id": "f48b0e21"
   },
   "outputs": [],
   "source": [
    "def produit(terme):\n",
    "    if len(terme) == 0:\n",
    "        return 1\n",
    "    else:\n",
    "        return terme[0] * produit(terme[1::])"
   ]
  },
  {
   "cell_type": "code",
   "execution_count": 12,
   "id": "b58b8dc7",
   "metadata": {
    "id": "b58b8dc7"
   },
   "outputs": [],
   "source": [
    "def somme(terme):\n",
    "    if len(terme) == 0:\n",
    "        return 1\n",
    "    else:\n",
    "        return terme[0] + somme(terme[1::])"
   ]
  },
  {
   "cell_type": "code",
   "execution_count": 13,
   "id": "4bf714af",
   "metadata": {
    "id": "4bf714af"
   },
   "outputs": [],
   "source": [
    "def computeSupportGraant(matrix):\n",
    "    return np.sum(matrix)\n"
   ]
  },
  {
   "cell_type": "code",
   "execution_count": 14,
   "id": "ee2cfa24",
   "metadata": {
    "id": "ee2cfa24"
   },
   "outputs": [],
   "source": [
    "def generatItemsetPatternGraant(dataset, minsup):\n",
    "    frequent_pattern = generatPatern(dataset, minsup)\n",
    "    new_patterns = dict()\n",
    "    frequents = set(frequent_pattern.keys())\n",
    "    for num in range(2, len(dataset.columns) + 1):\n",
    "        frequents = findsubsets(frequents, num)\n",
    "        purify(frequents)\n",
    "        for i in frequents :\n",
    "            str = ' , '.join(e for e in list(i))\n",
    "\n",
    "\n",
    "            matrix = produit(list(map(lambda x:frequent_pattern[x][0], list(i))))\n",
    "            support = computeSupportGraant(matrix)\n",
    "\n",
    "            if(support >= minsup):\n",
    "                new_patterns[str] = (matrix,support)\n",
    "\n",
    "\n",
    "            support = computeSupportGraant(matrix)\n",
    "\n",
    "            if(support >= minsup):\n",
    "                        new_patterns[str] = (matrix,support)\n",
    "\n",
    "\n",
    "        if(len(new_patterns) == 0): break\n",
    "\n",
    "        frequent_pattern.update(new_patterns)\n",
    "        frequents = reunion(list(map(lambda x:set(re.split(' , ',x)), list(new_patterns.keys()))))\n",
    "        new_patterns = dict()\n",
    "\n",
    "    return frequent_pattern"
   ]
  },
  {
   "cell_type": "code",
   "execution_count": 15,
   "id": "605a948e",
   "metadata": {
    "id": "605a948e"
   },
   "outputs": [],
   "source": [
    "from tqdm import tqdm"
   ]
  },
  {
   "cell_type": "markdown",
   "id": "7ff34239",
   "metadata": {
    "id": "7ff34239"
   },
   "source": [
    "#  chargement des dataset"
   ]
  },
  {
   "cell_type": "code",
   "execution_count": 16,
   "id": "948f5445",
   "metadata": {
    "id": "948f5445"
   },
   "outputs": [],
   "source": [
    "datasets = ['datasets/dataset.csv']"
   ]
  },
  {
   "cell_type": "code",
   "execution_count": 17,
   "id": "3890454a",
   "metadata": {
    "id": "3890454a"
   },
   "outputs": [],
   "source": [
    "les_dataset = list(map(lambda x: pd.read_csv(x, sep=' '), datasets))"
   ]
  },
  {
   "cell_type": "code",
   "execution_count": 18,
   "id": "3f7c0743",
   "metadata": {
    "colab": {
     "base_uri": "https://localhost:8080/",
     "height": 423
    },
    "id": "3f7c0743",
    "outputId": "9e1f7f07-51d3-4810-93d4-37804507235f"
   },
   "outputs": [
    {
     "data": {
      "text/html": [
       "<div>\n",
       "<style scoped>\n",
       "    .dataframe tbody tr th:only-of-type {\n",
       "        vertical-align: middle;\n",
       "    }\n",
       "\n",
       "    .dataframe tbody tr th {\n",
       "        vertical-align: top;\n",
       "    }\n",
       "\n",
       "    .dataframe thead th {\n",
       "        text-align: right;\n",
       "    }\n",
       "</style>\n",
       "<table border=\"1\" class=\"dataframe\">\n",
       "  <thead>\n",
       "    <tr style=\"text-align: right;\">\n",
       "      <th></th>\n",
       "      <th>1</th>\n",
       "      <th>2</th>\n",
       "      <th>3</th>\n",
       "      <th>4</th>\n",
       "      <th>5</th>\n",
       "      <th>7</th>\n",
       "      <th>8</th>\n",
       "      <th>9</th>\n",
       "      <th>10</th>\n",
       "      <th>11</th>\n",
       "    </tr>\n",
       "  </thead>\n",
       "  <tbody>\n",
       "    <tr>\n",
       "      <th>0</th>\n",
       "      <td>67108</td>\n",
       "      <td>522</td>\n",
       "      <td>257</td>\n",
       "      <td>736</td>\n",
       "      <td>5114</td>\n",
       "      <td>2151</td>\n",
       "      <td>1589</td>\n",
       "      <td>14</td>\n",
       "      <td>23</td>\n",
       "      <td>71</td>\n",
       "    </tr>\n",
       "    <tr>\n",
       "      <th>1</th>\n",
       "      <td>18676</td>\n",
       "      <td>620</td>\n",
       "      <td>325</td>\n",
       "      <td>817</td>\n",
       "      <td>6172</td>\n",
       "      <td>2450</td>\n",
       "      <td>1909</td>\n",
       "      <td>17</td>\n",
       "      <td>22</td>\n",
       "      <td>79</td>\n",
       "    </tr>\n",
       "    <tr>\n",
       "      <th>2</th>\n",
       "      <td>10051</td>\n",
       "      <td>746</td>\n",
       "      <td>390</td>\n",
       "      <td>858</td>\n",
       "      <td>8049</td>\n",
       "      <td>2053</td>\n",
       "      <td>1737</td>\n",
       "      <td>5</td>\n",
       "      <td>18</td>\n",
       "      <td>62</td>\n",
       "    </tr>\n",
       "    <tr>\n",
       "      <th>3</th>\n",
       "      <td>7091</td>\n",
       "      <td>529</td>\n",
       "      <td>291</td>\n",
       "      <td>780</td>\n",
       "      <td>5430</td>\n",
       "      <td>1695</td>\n",
       "      <td>1229</td>\n",
       "      <td>14</td>\n",
       "      <td>13</td>\n",
       "      <td>50</td>\n",
       "    </tr>\n",
       "    <tr>\n",
       "      <th>4</th>\n",
       "      <td>56857</td>\n",
       "      <td>542</td>\n",
       "      <td>312</td>\n",
       "      <td>1068</td>\n",
       "      <td>4620</td>\n",
       "      <td>1743</td>\n",
       "      <td>1104</td>\n",
       "      <td>7</td>\n",
       "      <td>15</td>\n",
       "      <td>46</td>\n",
       "    </tr>\n",
       "    <tr>\n",
       "      <th>...</th>\n",
       "      <td>...</td>\n",
       "      <td>...</td>\n",
       "      <td>...</td>\n",
       "      <td>...</td>\n",
       "      <td>...</td>\n",
       "      <td>...</td>\n",
       "      <td>...</td>\n",
       "      <td>...</td>\n",
       "      <td>...</td>\n",
       "      <td>...</td>\n",
       "    </tr>\n",
       "    <tr>\n",
       "      <th>195</th>\n",
       "      <td>25006</td>\n",
       "      <td>517</td>\n",
       "      <td>244</td>\n",
       "      <td>905</td>\n",
       "      <td>5107</td>\n",
       "      <td>2102</td>\n",
       "      <td>1469</td>\n",
       "      <td>21</td>\n",
       "      <td>23</td>\n",
       "      <td>129</td>\n",
       "    </tr>\n",
       "    <tr>\n",
       "      <th>196</th>\n",
       "      <td>35618</td>\n",
       "      <td>532</td>\n",
       "      <td>257</td>\n",
       "      <td>803</td>\n",
       "      <td>5310</td>\n",
       "      <td>2519</td>\n",
       "      <td>1887</td>\n",
       "      <td>20</td>\n",
       "      <td>13</td>\n",
       "      <td>153</td>\n",
       "    </tr>\n",
       "    <tr>\n",
       "      <th>197</th>\n",
       "      <td>41751</td>\n",
       "      <td>546</td>\n",
       "      <td>332</td>\n",
       "      <td>724</td>\n",
       "      <td>6628</td>\n",
       "      <td>2926</td>\n",
       "      <td>2535</td>\n",
       "      <td>11</td>\n",
       "      <td>21</td>\n",
       "      <td>171</td>\n",
       "    </tr>\n",
       "    <tr>\n",
       "      <th>198</th>\n",
       "      <td>29774</td>\n",
       "      <td>685</td>\n",
       "      <td>376</td>\n",
       "      <td>736</td>\n",
       "      <td>7940</td>\n",
       "      <td>2484</td>\n",
       "      <td>2191</td>\n",
       "      <td>23</td>\n",
       "      <td>24</td>\n",
       "      <td>235</td>\n",
       "    </tr>\n",
       "    <tr>\n",
       "      <th>199</th>\n",
       "      <td>27061</td>\n",
       "      <td>538</td>\n",
       "      <td>249</td>\n",
       "      <td>709</td>\n",
       "      <td>4876</td>\n",
       "      <td>2026</td>\n",
       "      <td>1798</td>\n",
       "      <td>14</td>\n",
       "      <td>8</td>\n",
       "      <td>169</td>\n",
       "    </tr>\n",
       "  </tbody>\n",
       "</table>\n",
       "<p>200 rows × 10 columns</p>\n",
       "</div>"
      ],
      "text/plain": [
       "         1    2    3     4     5     7     8   9  10   11\n",
       "0    67108  522  257   736  5114  2151  1589  14  23   71\n",
       "1    18676  620  325   817  6172  2450  1909  17  22   79\n",
       "2    10051  746  390   858  8049  2053  1737   5  18   62\n",
       "3     7091  529  291   780  5430  1695  1229  14  13   50\n",
       "4    56857  542  312  1068  4620  1743  1104   7  15   46\n",
       "..     ...  ...  ...   ...   ...   ...   ...  ..  ..  ...\n",
       "195  25006  517  244   905  5107  2102  1469  21  23  129\n",
       "196  35618  532  257   803  5310  2519  1887  20  13  153\n",
       "197  41751  546  332   724  6628  2926  2535  11  21  171\n",
       "198  29774  685  376   736  7940  2484  2191  23  24  235\n",
       "199  27061  538  249   709  4876  2026  1798  14   8  169\n",
       "\n",
       "[200 rows x 10 columns]"
      ]
     },
     "execution_count": 18,
     "metadata": {},
     "output_type": "execute_result"
    }
   ],
   "source": [
    "les_dataset[0]"
   ]
  },
  {
   "cell_type": "code",
   "execution_count": 70,
   "id": "e9fe4f62",
   "metadata": {
    "id": "e9fe4f62"
   },
   "outputs": [],
   "source": [
    "from tqdm import tqdm"
   ]
  },
  {
   "cell_type": "code",
   "execution_count": 22,
   "id": "G1G_8dSeo3AZ",
   "metadata": {
    "colab": {
     "base_uri": "https://localhost:8080/"
    },
    "id": "G1G_8dSeo3AZ",
    "outputId": "f78e8db4-c282-4152-9384-c913b03e4d1b",
    "scrolled": false
   },
   "outputs": [
    {
     "data": {
      "text/plain": [
       "3693"
      ]
     },
     "execution_count": 22,
     "metadata": {},
     "output_type": "execute_result"
    }
   ],
   "source": [
    "elem = generatItemsetPatternGraant(les_dataset[0], 2415)\n",
    "len(elem) #10 - 230 #20 - 42 #25 - 35, 50-20,50-42"
   ]
  },
  {
   "cell_type": "code",
   "execution_count": 9,
   "id": "b7db2902",
   "metadata": {},
   "outputs": [],
   "source": [
    "minsup_grite = [50, 55, 60, 65, 70] \n",
    "nbr_patterns_grite = [20, 25, 30, 35, 45]"
   ]
  },
  {
   "cell_type": "code",
   "execution_count": 10,
   "id": "6f7bb80c",
   "metadata": {},
   "outputs": [],
   "source": [
    "minsup_graank = np.array([1225,1485,1770,2080,2415])/10 \n",
    "nbr_patterns_graank = np.array([8713, 7101, 5726, 4608, 3693])/50"
   ]
  },
  {
   "cell_type": "code",
   "execution_count": 17,
   "id": "e7a18e1f",
   "metadata": {},
   "outputs": [
    {
     "data": {
      "text/plain": [
       "<Figure size 1200x400 with 0 Axes>"
      ]
     },
     "metadata": {},
     "output_type": "display_data"
    },
    {
     "data": {
      "image/png": "[encoded data removed]",
      "text/plain": [
       "<Figure size 1300x500 with 1 Axes>"
      ]
     },
     "metadata": {},
     "output_type": "display_data"
    }
   ],
   "source": [
    "import matplotlib.pyplot as plt\n",
    "plt.figure(figsize=(12, 4))\n",
    "fig, ax1 = plt.subplots(figsize=(13, 5))\n",
    "plt.grid(color='red', linestyle='--')\n",
    "plt.title(\"\")\n",
    "plt.xlabel(\"# patterns\")\n",
    "plt.ylabel(\"Grite\")\n",
    "\n",
    "ax1.plot(nbr_patterns_grite,minsup_grite)\n",
    "\n",
    "plt.show()"
   ]
  },
  {
   "cell_type": "code",
   "execution_count": 20,
   "id": "5ef48060",
   "metadata": {},
   "outputs": [
    {
     "data": {
      "text/plain": [
       "<Figure size 1200x400 with 0 Axes>"
      ]
     },
     "metadata": {},
     "output_type": "display_data"
    },
    {
     "data": {
      "image/png": "[encoded data removed]",
      "text/plain": [
       "<Figure size 1300x500 with 1 Axes>"
      ]
     },
     "metadata": {},
     "output_type": "display_data"
    }
   ],
   "source": [
    "import matplotlib.pyplot as plt\n",
    "plt.figure(figsize=(12, 4))\n",
    "fig, ax1 = plt.subplots(figsize=(13, 5))\n",
    "plt.grid(color='red', linestyle='--')\n",
    "plt.title(\"\")\n",
    "plt.xlabel(\"# patterns\")\n",
    "plt.ylabel(\"Graank\")\n",
    "\n",
    "ax1.plot(nbr_patterns_graank,minsup_graank, color=\"blue\")\n",
    "\n",
    "plt.show()"
   ]
  },
  {
   "cell_type": "code",
   "execution_count": null,
   "id": "f7698f52",
   "metadata": {},
   "outputs": [],
   "source": []
  },
  {
   "cell_type": "code",
   "execution_count": 19,
   "id": "4091d13b",
   "metadata": {},
   "outputs": [],
   "source": [
    "#Grite =>\n",
    "\n",
    "# (100, 10) -> (50 - 20)\n",
    "# (100, 20) -> (50 - 42)\n",
    "# (100, 30) -> (50 - 62)\n",
    "# (100, 40) -> (50 - 82)\n",
    "# (100, 50) -> (50 - 102)"
   ]
  },
  {
   "cell_type": "code",
   "execution_count": 20,
   "id": "2ce3f7dc",
   "metadata": {},
   "outputs": [],
   "source": [
    "#Graant =>\n",
    "\n",
    "# (100, 10) -> (1225 - 20)\n",
    "# (100, 20) -> (1225 - 42)\n",
    "# (100, 30) -> (1225 - 62)\n",
    "# (100, 40) -> (1225 - 82)\n",
    "# (100, 50) -> (1225 - 102)"
   ]
  },
  {
   "cell_type": "code",
   "execution_count": 22,
   "id": "2ebfbd57",
   "metadata": {},
   "outputs": [
    {
     "ename": "TypeError",
     "evalue": "computeSupportGraant() missing 1 required positional argument: 'matrix'",
     "output_type": "error",
     "traceback": [
      "\u001b[1;31m---------------------------------------------------------------------------\u001b[0m",
      "\u001b[1;31mTypeError\u001b[0m                                 Traceback (most recent call last)",
      "Cell \u001b[1;32mIn[22], line 1\u001b[0m\n\u001b[1;32m----> 1\u001b[0m elem \u001b[38;5;241m=\u001b[39m \u001b[43mgeneratItemsetPatternGraant\u001b[49m\u001b[43m(\u001b[49m\u001b[43mles_dataset\u001b[49m\u001b[43m[\u001b[49m\u001b[38;5;241;43m0\u001b[39;49m\u001b[43m]\u001b[49m\u001b[43m,\u001b[49m\u001b[43m \u001b[49m\u001b[38;5;241;43m50\u001b[39;49m\u001b[43m)\u001b[49m\n\u001b[0;32m      2\u001b[0m \u001b[38;5;28mlen\u001b[39m(elem)\n",
      "Cell \u001b[1;32mIn[14], line 2\u001b[0m, in \u001b[0;36mgeneratItemsetPatternGraant\u001b[1;34m(dataset, minsup)\u001b[0m\n\u001b[0;32m      1\u001b[0m \u001b[38;5;28;01mdef\u001b[39;00m \u001b[38;5;21mgeneratItemsetPatternGraant\u001b[39m(dataset, minsup):\n\u001b[1;32m----> 2\u001b[0m     frequent_pattern \u001b[38;5;241m=\u001b[39m \u001b[43mgeneratPatern\u001b[49m\u001b[43m(\u001b[49m\u001b[43mdataset\u001b[49m\u001b[43m,\u001b[49m\u001b[43m \u001b[49m\u001b[43mminsup\u001b[49m\u001b[43m)\u001b[49m\n\u001b[0;32m      3\u001b[0m     new_patterns \u001b[38;5;241m=\u001b[39m \u001b[38;5;28mdict\u001b[39m()\n\u001b[0;32m      4\u001b[0m     frequents \u001b[38;5;241m=\u001b[39m \u001b[38;5;28mset\u001b[39m(frequent_pattern\u001b[38;5;241m.\u001b[39mkeys())\n",
      "Cell \u001b[1;32mIn[4], line 7\u001b[0m, in \u001b[0;36mgeneratPatern\u001b[1;34m(dataset, minsup)\u001b[0m\n\u001b[0;32m      5\u001b[0m matrix_plus \u001b[38;5;241m=\u001b[39m generateMatrixOfSingle(dataset,i, sign\u001b[38;5;241m=\u001b[39m\u001b[38;5;124m'\u001b[39m\u001b[38;5;124mplus\u001b[39m\u001b[38;5;124m'\u001b[39m)\n\u001b[0;32m      6\u001b[0m matrix_moin \u001b[38;5;241m=\u001b[39m generateMatrixOfSingleinf(dataset,i,\u001b[38;5;124m'\u001b[39m\u001b[38;5;124mmoin\u001b[39m\u001b[38;5;124m'\u001b[39m)\n\u001b[1;32m----> 7\u001b[0m sup_plus \u001b[38;5;241m=\u001b[39m \u001b[43mcomputeSupportGraant\u001b[49m\u001b[43m(\u001b[49m\u001b[43mmatrix_plus\u001b[49m\u001b[43m,\u001b[49m\u001b[43m \u001b[49m\u001b[43mminsup\u001b[49m\u001b[43m)\u001b[49m\n\u001b[0;32m      8\u001b[0m sup_moin \u001b[38;5;241m=\u001b[39m computeSupportGraant(matrix_moin)\n\u001b[0;32m      9\u001b[0m \u001b[38;5;28;01mif\u001b[39;00m(sup_plus \u001b[38;5;241m>\u001b[39m\u001b[38;5;241m=\u001b[39m minsup):\n",
      "\u001b[1;31mTypeError\u001b[0m: computeSupportGraant() missing 1 required positional argument: 'matrix'"
     ]
    }
   ],
   "source": [
    "elem = generatItemsetPatternGraant(les_dataset[0], 50)\n",
    "len(elem) #10 - 230 #20 - 42 #25 - 35, 50-20,50-42"
   ]
  },
  {
   "cell_type": "markdown",
   "id": "e19f2cce",
   "metadata": {
    "id": "e19f2cce"
   },
   "source": [
    "# Apply the extraction"
   ]
  },
  {
   "cell_type": "code",
   "execution_count": null,
   "id": "06cda4cb",
   "metadata": {
    "colab": {
     "base_uri": "https://localhost:8080/",
     "height": 423
    },
    "id": "06cda4cb",
    "outputId": "dbd432c9-1373-498e-de79-1e36bcebbea6"
   },
   "outputs": [
    {
     "name": "stdout",
     "output_type": "stream",
     "text": [
      "------------------------------------------ Statistique de Sgrite ---------------------------------------------\n",
      "\n"
     ]
    },
    {
     "data": {
      "image/png": "[encoded data removed]",
      "text/plain": [
       "<Figure size 900x400 with 1 Axes>"
      ]
     },
     "metadata": {},
     "output_type": "display_data"
    }
   ],
   "source": [
    "print('------------------------------------------ Statistique de Sgrite ---------------------------------------------')\n",
    "neglige = []\n",
    "nbr_pattern = []\n",
    "min_sup = []\n",
    "plt.figure(figsize=(9, 4))\n",
    "\n",
    "for sup in range(6, len(les_dataset[0])):\n",
    "        patterns, nbr = generatItemsetPatternModif(les_dataset[0], sup, False)\n",
    "        nbr_pattern.append(print_pattern_mined(delete_complement(patterns)))\n",
    "        neglige.append(nbr)\n",
    "        min_sup.append((sup/19)*100)\n",
    "\n",
    "plt.grid(color='red', linestyle='--')\n",
    "plt.xlabel('minsup (%)')\n",
    "plt.ylabel('number of pattern')\n",
    "plt.plot(min_sup, nbr_pattern, min_sup, neglige, marker= 'o')\n",
    "plt.legend(['number of pattern', 'Early deleted patterns'])\n",
    "print()\n",
    "# nbr_pattern, strn = generatItemsetPatternModif(les_dataset[0], 4)\n",
    "# print_pattern_mined(nbr_pattern)\n"
   ]
  },
  {
   "cell_type": "code",
   "execution_count": null,
   "id": "553b1997",
   "metadata": {
    "colab": {
     "base_uri": "https://localhost:8080/",
     "height": 381
    },
    "id": "553b1997",
    "outputId": "6386097e-717b-4519-c937-4f29a41cbd8d"
   },
   "outputs": [
    {
     "name": "stdout",
     "output_type": "stream",
     "text": [
      "------------------------------------------ Statistique de Grite ---------------------------------------------\n"
     ]
    },
    {
     "ename": "KeyboardInterrupt",
     "evalue": "ignored",
     "output_type": "error",
     "traceback": [
      "\u001b[0;31m---------------------------------------------------------------------------\u001b[0m",
      "\u001b[0;31mKeyboardInterrupt\u001b[0m                         Traceback (most recent call last)",
      "\u001b[0;32m<ipython-input-31-967a87c224cb>\u001b[0m in \u001b[0;36m<cell line: 7>\u001b[0;34m()\u001b[0m\n\u001b[1;32m      6\u001b[0m \u001b[0;34m\u001b[0m\u001b[0m\n\u001b[1;32m      7\u001b[0m \u001b[0;32mfor\u001b[0m \u001b[0msup\u001b[0m \u001b[0;32min\u001b[0m \u001b[0mrange\u001b[0m\u001b[0;34m(\u001b[0m\u001b[0;36m3\u001b[0m\u001b[0;34m,\u001b[0m \u001b[0mlen\u001b[0m\u001b[0;34m(\u001b[0m\u001b[0mles_dataset\u001b[0m\u001b[0;34m[\u001b[0m\u001b[0;36m0\u001b[0m\u001b[0;34m]\u001b[0m\u001b[0;34m)\u001b[0m\u001b[0;34m)\u001b[0m\u001b[0;34m:\u001b[0m\u001b[0;34m\u001b[0m\u001b[0;34m\u001b[0m\u001b[0m\n\u001b[0;32m----> 8\u001b[0;31m         \u001b[0mpatterns\u001b[0m\u001b[0;34m,\u001b[0m \u001b[0mnbr\u001b[0m \u001b[0;34m=\u001b[0m \u001b[0mgeneratItemsetPatternMotifGrite\u001b[0m\u001b[0;34m(\u001b[0m\u001b[0mles_dataset\u001b[0m\u001b[0;34m[\u001b[0m\u001b[0;36m0\u001b[0m\u001b[0;34m]\u001b[0m\u001b[0;34m,\u001b[0m \u001b[0msup\u001b[0m\u001b[0;34m)\u001b[0m\u001b[0;34m\u001b[0m\u001b[0;34m\u001b[0m\u001b[0m\n\u001b[0m\u001b[1;32m      9\u001b[0m         \u001b[0mnbr_pattern\u001b[0m\u001b[0;34m.\u001b[0m\u001b[0mappend\u001b[0m\u001b[0;34m(\u001b[0m\u001b[0mprint_pattern_mined\u001b[0m\u001b[0;34m(\u001b[0m\u001b[0mdelete_complement\u001b[0m\u001b[0;34m(\u001b[0m\u001b[0mpatterns\u001b[0m\u001b[0;34m)\u001b[0m\u001b[0;34m)\u001b[0m\u001b[0;34m)\u001b[0m\u001b[0;34m\u001b[0m\u001b[0;34m\u001b[0m\u001b[0m\n\u001b[1;32m     10\u001b[0m         \u001b[0mneglige\u001b[0m\u001b[0;34m.\u001b[0m\u001b[0mappend\u001b[0m\u001b[0;34m(\u001b[0m\u001b[0mnbr\u001b[0m\u001b[0;34m)\u001b[0m\u001b[0;34m\u001b[0m\u001b[0;34m\u001b[0m\u001b[0m\n",
      "\u001b[0;32m<ipython-input-17-285a910a0186>\u001b[0m in \u001b[0;36mgeneratItemsetPatternMotifGrite\u001b[0;34m(dataset, minsup)\u001b[0m\n\u001b[1;32m      6\u001b[0m     \u001b[0;32mfor\u001b[0m \u001b[0mnum\u001b[0m \u001b[0;32min\u001b[0m \u001b[0mrange\u001b[0m\u001b[0;34m(\u001b[0m\u001b[0;36m2\u001b[0m\u001b[0;34m,\u001b[0m \u001b[0mlen\u001b[0m\u001b[0;34m(\u001b[0m\u001b[0mdataset\u001b[0m\u001b[0;34m.\u001b[0m\u001b[0mcolumns\u001b[0m\u001b[0;34m)\u001b[0m \u001b[0;34m+\u001b[0m \u001b[0;36m1\u001b[0m\u001b[0;34m)\u001b[0m\u001b[0;34m:\u001b[0m\u001b[0;34m\u001b[0m\u001b[0;34m\u001b[0m\u001b[0m\n\u001b[1;32m      7\u001b[0m         \u001b[0mfrequents\u001b[0m \u001b[0;34m=\u001b[0m \u001b[0mfindsubsets\u001b[0m\u001b[0;34m(\u001b[0m\u001b[0mfrequents\u001b[0m\u001b[0;34m,\u001b[0m \u001b[0mnum\u001b[0m\u001b[0;34m)\u001b[0m\u001b[0;34m\u001b[0m\u001b[0;34m\u001b[0m\u001b[0m\n\u001b[0;32m----> 8\u001b[0;31m         \u001b[0mpurify\u001b[0m\u001b[0;34m(\u001b[0m\u001b[0mfrequents\u001b[0m\u001b[0;34m)\u001b[0m\u001b[0;34m\u001b[0m\u001b[0;34m\u001b[0m\u001b[0m\n\u001b[0m\u001b[1;32m      9\u001b[0m         \u001b[0;32mfor\u001b[0m \u001b[0mi\u001b[0m \u001b[0;32min\u001b[0m \u001b[0mfrequents\u001b[0m \u001b[0;34m:\u001b[0m\u001b[0;34m\u001b[0m\u001b[0;34m\u001b[0m\u001b[0m\n\u001b[1;32m     10\u001b[0m             \u001b[0mstr\u001b[0m \u001b[0;34m=\u001b[0m \u001b[0;34m' , '\u001b[0m\u001b[0;34m.\u001b[0m\u001b[0mjoin\u001b[0m\u001b[0;34m(\u001b[0m\u001b[0me\u001b[0m \u001b[0;32mfor\u001b[0m \u001b[0me\u001b[0m \u001b[0;32min\u001b[0m \u001b[0mlist\u001b[0m\u001b[0;34m(\u001b[0m\u001b[0mi\u001b[0m\u001b[0;34m)\u001b[0m\u001b[0;34m)\u001b[0m\u001b[0;34m\u001b[0m\u001b[0;34m\u001b[0m\u001b[0m\n",
      "\u001b[0;32m<ipython-input-3-f14a108c4e00>\u001b[0m in \u001b[0;36mpurify\u001b[0;34m(list_set_string)\u001b[0m\n\u001b[1;32m      7\u001b[0m             \u001b[0mdechet\u001b[0m\u001b[0;34m.\u001b[0m\u001b[0mappend\u001b[0m\u001b[0;34m(\u001b[0m\u001b[0melm\u001b[0m\u001b[0;34m)\u001b[0m\u001b[0;34m\u001b[0m\u001b[0;34m\u001b[0m\u001b[0m\n\u001b[1;32m      8\u001b[0m     \u001b[0;32mfor\u001b[0m \u001b[0mde\u001b[0m \u001b[0;32min\u001b[0m \u001b[0mdechet\u001b[0m\u001b[0;34m:\u001b[0m\u001b[0;34m\u001b[0m\u001b[0;34m\u001b[0m\u001b[0m\n\u001b[0;32m----> 9\u001b[0;31m         \u001b[0mlist_set_string\u001b[0m\u001b[0;34m.\u001b[0m\u001b[0mremove\u001b[0m\u001b[0;34m(\u001b[0m\u001b[0mde\u001b[0m\u001b[0;34m)\u001b[0m\u001b[0;34m\u001b[0m\u001b[0;34m\u001b[0m\u001b[0m\n\u001b[0m",
      "\u001b[0;31mKeyboardInterrupt\u001b[0m: "
     ]
    },
    {
     "data": {
      "text/plain": [
       "<Figure size 900x400 with 0 Axes>"
      ]
     },
     "metadata": {},
     "output_type": "display_data"
    }
   ],
   "source": [
    "print('------------------------------------------ Statistique de Grite ---------------------------------------------')\n",
    "neglige = []\n",
    "nbr_pattern = []\n",
    "min_sup = []\n",
    "plt.figure(figsize=(9, 4))\n",
    "\n",
    "for sup in range(3, len(les_dataset[0])):\n",
    "        patterns, nbr = generatItemsetPatternMotifGrite(les_dataset[0], sup)\n",
    "        nbr_pattern.append(print_pattern_mined(delete_complement(patterns)))\n",
    "        neglige.append(nbr)\n",
    "        min_sup.append((sup/19)*100)\n",
    "\n",
    "\n",
    "plt.grid(color='red', linestyle='--')\n",
    "plt.xlabel('minsup')\n",
    "\n",
    "plt.ylabel('number of pattern')\n",
    "\n",
    "plt.plot(min_sup, nbr_pattern, min_sup, neglige, marker= 'o')\n",
    "plt.legend(['number of pattern', 'Early deleted patterns'])\n",
    "neglige = []\n",
    "nbr_pattern = []\n",
    "min_sup = []"
   ]
  },
  {
   "cell_type": "markdown",
   "id": "158babf3",
   "metadata": {
    "id": "158babf3"
   },
   "source": [
    "# Diagramme de temps"
   ]
  },
  {
   "cell_type": "code",
   "execution_count": null,
   "id": "dc8f7596",
   "metadata": {
    "colab": {
     "base_uri": "https://localhost:8080/",
     "height": 405
    },
    "id": "dc8f7596",
    "outputId": "e710c83b-e22e-4df8-894d-1326f532e09b"
   },
   "outputs": [
    {
     "name": "stdout",
     "output_type": "stream",
     "text": [
      "------------------------------------------ Statistique de Sgrite ---------------------------------------------\n"
     ]
    },
    {
     "data": {
      "image/png": "[encoded data removed]",
      "text/plain": [
       "<Figure size 900x400 with 1 Axes>"
      ]
     },
     "metadata": {},
     "output_type": "display_data"
    }
   ],
   "source": [
    "print('------------------------------------------ Statistique de Sgrite ---------------------------------------------')\n",
    "min_sup = []\n",
    "times1 = []\n",
    "times2 = []\n",
    "plt.figure(figsize=(9, 4))\n",
    "# for i_data in range(len(datasets)):\n",
    "for sup in range(3, len(les_dataset[0])):\n",
    "        temps1 = time.time()\n",
    "        patterns = generatItemsetPattern(les_dataset[0], sup, False)\n",
    "        temps2 = time.time()\n",
    "\n",
    "        times1.append(temps2 - temps1)\n",
    "\n",
    "        temps1 = time.time()\n",
    "        patterns, nbr = generatItemsetPatternModif(les_dataset[0], sup, False)\n",
    "        temps2 = time.time()\n",
    "\n",
    "        times2.append(temps2 - temps1)\n",
    "\n",
    "        min_sup.append((sup/19)*100)\n",
    "\n",
    "plt.grid(color='red', linestyle='--')\n",
    "plt.xlabel('minsup (%)')\n",
    "plt.ylabel('times')\n",
    "plt.plot(min_sup, times1, min_sup, times2, marker= 'o')\n",
    "plt.legend(['without cond', 'with cond'])\n",
    "min_sup = []\n",
    "times2 = []\n",
    "times1 = []"
   ]
  },
  {
   "cell_type": "code",
   "execution_count": null,
   "id": "04900cd8",
   "metadata": {
    "colab": {
     "base_uri": "https://localhost:8080/",
     "height": 405
    },
    "id": "04900cd8",
    "outputId": "551ff8cf-46cd-475c-8d14-a526c169ba2c"
   },
   "outputs": [
    {
     "name": "stdout",
     "output_type": "stream",
     "text": [
      "------------------------------------------ Statistique de Grite ---------------------------------------------\n"
     ]
    },
    {
     "data": {
      "image/png": "[encoded data removed]",
      "text/plain": [
       "<Figure size 900x400 with 1 Axes>"
      ]
     },
     "metadata": {},
     "output_type": "display_data"
    }
   ],
   "source": [
    "print('------------------------------------------ Statistique de Grite ---------------------------------------------')\n",
    "min_sup = []\n",
    "times1 = []\n",
    "times2 = []\n",
    "plt.figure(figsize=(9, 4))\n",
    "# for i_data in range(len(datasets)):\n",
    "for sup in range(3, len(les_dataset[0])):\n",
    "        temps1 = time.time()\n",
    "        patterns = generatItemsetPatternGrite(les_dataset[0], sup)\n",
    "        temps2 = time.time()\n",
    "\n",
    "        times1.append(temps2 - temps1)\n",
    "\n",
    "        temps1 = time.time()\n",
    "        patterns, nbr = generatItemsetPatternMotifGrite(les_dataset[0], sup)\n",
    "        temps2 = time.time()\n",
    "\n",
    "        times2.append(temps2 - temps1)\n",
    "\n",
    "        min_sup.append((sup/19)*100)\n",
    "plt.grid(color='red', linestyle='--')\n",
    "plt.xlabel('minsup (%)')\n",
    "plt.ylabel('times')\n",
    "plt.plot(min_sup, times1, min_sup, times2, marker= 'o')\n",
    "plt.legend(['without cond', 'with cond'])\n",
    "min_sup = []\n",
    "times2 = []\n",
    "times1 = []"
   ]
  },
  {
   "cell_type": "markdown",
   "id": "bdf08f4b",
   "metadata": {
    "id": "bdf08f4b"
   },
   "source": [
    "# Introduire la consomation de ram"
   ]
  },
  {
   "cell_type": "code",
   "execution_count": null,
   "id": "03889e57",
   "metadata": {
    "id": "03889e57"
   },
   "outputs": [],
   "source": [
    "datasets = ['/content/sample_data/dataset6.csv']\n",
    "les_dataset = list(map(lambda x: pd.read_csv(x, sep=' '), datasets))"
   ]
  },
  {
   "cell_type": "code",
   "execution_count": null,
   "id": "827fd6b6",
   "metadata": {
    "colab": {
     "base_uri": "https://localhost:8080/",
     "height": 645
    },
    "id": "827fd6b6",
    "outputId": "b2efe717-e524-413f-951d-18ca67ad8bfa"
   },
   "outputs": [
    {
     "data": {
      "text/html": [
       "\n",
       "\n",
       "  <div id=\"df-0593b47f-7383-4e77-b967-f80f2ba85f9b\">\n",
       "    <div class=\"colab-df-container\">\n",
       "      <div>\n",
       "<style scoped>\n",
       "    .dataframe tbody tr th:only-of-type {\n",
       "        vertical-align: middle;\n",
       "    }\n",
       "\n",
       "    .dataframe tbody tr th {\n",
       "        vertical-align: top;\n",
       "    }\n",
       "\n",
       "    .dataframe thead th {\n",
       "        text-align: right;\n",
       "    }\n",
       "</style>\n",
       "<table border=\"1\" class=\"dataframe\">\n",
       "  <thead>\n",
       "    <tr style=\"text-align: right;\">\n",
       "      <th></th>\n",
       "      <th>1</th>\n",
       "      <th>2</th>\n",
       "      <th>3</th>\n",
       "      <th>4</th>\n",
       "      <th>5</th>\n",
       "      <th>6</th>\n",
       "      <th>7</th>\n",
       "      <th>8</th>\n",
       "      <th>9</th>\n",
       "      <th>10</th>\n",
       "    </tr>\n",
       "  </thead>\n",
       "  <tbody>\n",
       "    <tr>\n",
       "      <th>0</th>\n",
       "      <td>1</td>\n",
       "      <td>76</td>\n",
       "      <td>4</td>\n",
       "      <td>96</td>\n",
       "      <td>0</td>\n",
       "      <td>42</td>\n",
       "      <td>0</td>\n",
       "      <td>0</td>\n",
       "      <td>45</td>\n",
       "      <td>51</td>\n",
       "    </tr>\n",
       "    <tr>\n",
       "      <th>1</th>\n",
       "      <td>5</td>\n",
       "      <td>0</td>\n",
       "      <td>48</td>\n",
       "      <td>25</td>\n",
       "      <td>72</td>\n",
       "      <td>85</td>\n",
       "      <td>36</td>\n",
       "      <td>0</td>\n",
       "      <td>75</td>\n",
       "      <td>0</td>\n",
       "    </tr>\n",
       "    <tr>\n",
       "      <th>2</th>\n",
       "      <td>8</td>\n",
       "      <td>0</td>\n",
       "      <td>13</td>\n",
       "      <td>0</td>\n",
       "      <td>0</td>\n",
       "      <td>0</td>\n",
       "      <td>93</td>\n",
       "      <td>0</td>\n",
       "      <td>66</td>\n",
       "      <td>83</td>\n",
       "    </tr>\n",
       "    <tr>\n",
       "      <th>3</th>\n",
       "      <td>79</td>\n",
       "      <td>0</td>\n",
       "      <td>75</td>\n",
       "      <td>0</td>\n",
       "      <td>31</td>\n",
       "      <td>0</td>\n",
       "      <td>83</td>\n",
       "      <td>0</td>\n",
       "      <td>14</td>\n",
       "      <td>0</td>\n",
       "    </tr>\n",
       "    <tr>\n",
       "      <th>4</th>\n",
       "      <td>1</td>\n",
       "      <td>21</td>\n",
       "      <td>36</td>\n",
       "      <td>70</td>\n",
       "      <td>42</td>\n",
       "      <td>97</td>\n",
       "      <td>0</td>\n",
       "      <td>0</td>\n",
       "      <td>18</td>\n",
       "      <td>18</td>\n",
       "    </tr>\n",
       "    <tr>\n",
       "      <th>5</th>\n",
       "      <td>63</td>\n",
       "      <td>0</td>\n",
       "      <td>0</td>\n",
       "      <td>86</td>\n",
       "      <td>77</td>\n",
       "      <td>0</td>\n",
       "      <td>19</td>\n",
       "      <td>0</td>\n",
       "      <td>43</td>\n",
       "      <td>15</td>\n",
       "    </tr>\n",
       "    <tr>\n",
       "      <th>6</th>\n",
       "      <td>57</td>\n",
       "      <td>97</td>\n",
       "      <td>18</td>\n",
       "      <td>54</td>\n",
       "      <td>23</td>\n",
       "      <td>0</td>\n",
       "      <td>63</td>\n",
       "      <td>0</td>\n",
       "      <td>2</td>\n",
       "      <td>49</td>\n",
       "    </tr>\n",
       "    <tr>\n",
       "      <th>7</th>\n",
       "      <td>80</td>\n",
       "      <td>82</td>\n",
       "      <td>86</td>\n",
       "      <td>91</td>\n",
       "      <td>0</td>\n",
       "      <td>81</td>\n",
       "      <td>96</td>\n",
       "      <td>0</td>\n",
       "      <td>50</td>\n",
       "      <td>0</td>\n",
       "    </tr>\n",
       "    <tr>\n",
       "      <th>8</th>\n",
       "      <td>75</td>\n",
       "      <td>91</td>\n",
       "      <td>70</td>\n",
       "      <td>94</td>\n",
       "      <td>38</td>\n",
       "      <td>26</td>\n",
       "      <td>0</td>\n",
       "      <td>0</td>\n",
       "      <td>38</td>\n",
       "      <td>81</td>\n",
       "    </tr>\n",
       "    <tr>\n",
       "      <th>9</th>\n",
       "      <td>19</td>\n",
       "      <td>79</td>\n",
       "      <td>30</td>\n",
       "      <td>43</td>\n",
       "      <td>62</td>\n",
       "      <td>7</td>\n",
       "      <td>40</td>\n",
       "      <td>0</td>\n",
       "      <td>76</td>\n",
       "      <td>9</td>\n",
       "    </tr>\n",
       "    <tr>\n",
       "      <th>10</th>\n",
       "      <td>96</td>\n",
       "      <td>48</td>\n",
       "      <td>27</td>\n",
       "      <td>0</td>\n",
       "      <td>4</td>\n",
       "      <td>45</td>\n",
       "      <td>0</td>\n",
       "      <td>0</td>\n",
       "      <td>56</td>\n",
       "      <td>0</td>\n",
       "    </tr>\n",
       "    <tr>\n",
       "      <th>11</th>\n",
       "      <td>9</td>\n",
       "      <td>85</td>\n",
       "      <td>68</td>\n",
       "      <td>36</td>\n",
       "      <td>38</td>\n",
       "      <td>12</td>\n",
       "      <td>67</td>\n",
       "      <td>0</td>\n",
       "      <td>63</td>\n",
       "      <td>28</td>\n",
       "    </tr>\n",
       "    <tr>\n",
       "      <th>12</th>\n",
       "      <td>3</td>\n",
       "      <td>0</td>\n",
       "      <td>69</td>\n",
       "      <td>53</td>\n",
       "      <td>2</td>\n",
       "      <td>32</td>\n",
       "      <td>0</td>\n",
       "      <td>0</td>\n",
       "      <td>18</td>\n",
       "      <td>91</td>\n",
       "    </tr>\n",
       "    <tr>\n",
       "      <th>13</th>\n",
       "      <td>21</td>\n",
       "      <td>10</td>\n",
       "      <td>0</td>\n",
       "      <td>0</td>\n",
       "      <td>71</td>\n",
       "      <td>0</td>\n",
       "      <td>89</td>\n",
       "      <td>0</td>\n",
       "      <td>52</td>\n",
       "      <td>29</td>\n",
       "    </tr>\n",
       "    <tr>\n",
       "      <th>14</th>\n",
       "      <td>10</td>\n",
       "      <td>50</td>\n",
       "      <td>9</td>\n",
       "      <td>23</td>\n",
       "      <td>65</td>\n",
       "      <td>77</td>\n",
       "      <td>93</td>\n",
       "      <td>0</td>\n",
       "      <td>2</td>\n",
       "      <td>58</td>\n",
       "    </tr>\n",
       "    <tr>\n",
       "      <th>15</th>\n",
       "      <td>31</td>\n",
       "      <td>34</td>\n",
       "      <td>0</td>\n",
       "      <td>0</td>\n",
       "      <td>23</td>\n",
       "      <td>0</td>\n",
       "      <td>0</td>\n",
       "      <td>0</td>\n",
       "      <td>10</td>\n",
       "      <td>0</td>\n",
       "    </tr>\n",
       "    <tr>\n",
       "      <th>16</th>\n",
       "      <td>15</td>\n",
       "      <td>28</td>\n",
       "      <td>27</td>\n",
       "      <td>1</td>\n",
       "      <td>0</td>\n",
       "      <td>20</td>\n",
       "      <td>12</td>\n",
       "      <td>0</td>\n",
       "      <td>11</td>\n",
       "      <td>21</td>\n",
       "    </tr>\n",
       "    <tr>\n",
       "      <th>17</th>\n",
       "      <td>19</td>\n",
       "      <td>41</td>\n",
       "      <td>36</td>\n",
       "      <td>0</td>\n",
       "      <td>13</td>\n",
       "      <td>36</td>\n",
       "      <td>0</td>\n",
       "      <td>50</td>\n",
       "      <td>59</td>\n",
       "      <td>80</td>\n",
       "    </tr>\n",
       "    <tr>\n",
       "      <th>18</th>\n",
       "      <td>67</td>\n",
       "      <td>48</td>\n",
       "      <td>6</td>\n",
       "      <td>54</td>\n",
       "      <td>86</td>\n",
       "      <td>20</td>\n",
       "      <td>0</td>\n",
       "      <td>0</td>\n",
       "      <td>34</td>\n",
       "      <td>53</td>\n",
       "    </tr>\n",
       "  </tbody>\n",
       "</table>\n",
       "</div>\n",
       "      <button class=\"colab-df-convert\" onclick=\"convertToInteractive('df-0593b47f-7383-4e77-b967-f80f2ba85f9b')\"\n",
       "              title=\"Convert this dataframe to an interactive table.\"\n",
       "              style=\"display:none;\">\n",
       "\n",
       "  <svg xmlns=\"http://www.w3.org/2000/svg\" height=\"24px\"viewBox=\"0 0 24 24\"\n",
       "       width=\"24px\">\n",
       "    <path d=\"M0 0h24v24H0V0z\" fill=\"none\"/>\n",
       "    <path d=\"M18.56 5.44l.94 2.06.94-2.06 2.06-.94-2.06-.94-.94-2.06-.94 2.06-2.06.94zm-11 1L8.5 8.5l.94-2.06 2.06-.94-2.06-.94L8.5 2.5l-.94 2.06-2.06.94zm10 10l.94 2.06.94-2.06 2.06-.94-2.06-.94-.94-2.06-.94 2.06-2.06.94z\"/><path d=\"M17.41 7.96l-1.37-1.37c-.4-.4-.92-.59-1.43-.59-.52 0-1.04.2-1.43.59L10.3 9.45l-7.72 7.72c-.78.78-.78 2.05 0 2.83L4 21.41c.39.39.9.59 1.41.59.51 0 1.02-.2 1.41-.59l7.78-7.78 2.81-2.81c.8-.78.8-2.07 0-2.86zM5.41 20L4 18.59l7.72-7.72 1.47 1.35L5.41 20z\"/>\n",
       "  </svg>\n",
       "      </button>\n",
       "\n",
       "\n",
       "\n",
       "    <div id=\"df-1cdb4d99-7faf-4881-86e4-ab217b17b734\">\n",
       "      <button class=\"colab-df-quickchart\" onclick=\"quickchart('df-1cdb4d99-7faf-4881-86e4-ab217b17b734')\"\n",
       "              title=\"Suggest charts.\"\n",
       "              style=\"display:none;\">\n",
       "\n",
       "<svg xmlns=\"http://www.w3.org/2000/svg\" height=\"24px\"viewBox=\"0 0 24 24\"\n",
       "     width=\"24px\">\n",
       "    <g>\n",
       "        <path d=\"M19 3H5c-1.1 0-2 .9-2 2v14c0 1.1.9 2 2 2h14c1.1 0 2-.9 2-2V5c0-1.1-.9-2-2-2zM9 17H7v-7h2v7zm4 0h-2V7h2v10zm4 0h-2v-4h2v4z\"/>\n",
       "    </g>\n",
       "</svg>\n",
       "      </button>\n",
       "    </div>\n",
       "\n",
       "<style>\n",
       "  .colab-df-quickchart {\n",
       "    background-color: #E8F0FE;\n",
       "    border: none;\n",
       "    border-radius: 50%;\n",
       "    cursor: pointer;\n",
       "    display: none;\n",
       "    fill: #1967D2;\n",
       "    height: 32px;\n",
       "    padding: 0 0 0 0;\n",
       "    width: 32px;\n",
       "  }\n",
       "\n",
       "  .colab-df-quickchart:hover {\n",
       "    background-color: #E2EBFA;\n",
       "    box-shadow: 0px 1px 2px rgba(60, 64, 67, 0.3), 0px 1px 3px 1px rgba(60, 64, 67, 0.15);\n",
       "    fill: #174EA6;\n",
       "  }\n",
       "\n",
       "  [theme=dark] .colab-df-quickchart {\n",
       "    background-color: #3B4455;\n",
       "    fill: #D2E3FC;\n",
       "  }\n",
       "\n",
       "  [theme=dark] .colab-df-quickchart:hover {\n",
       "    background-color: #434B5C;\n",
       "    box-shadow: 0px 1px 3px 1px rgba(0, 0, 0, 0.15);\n",
       "    filter: drop-shadow(0px 1px 2px rgba(0, 0, 0, 0.3));\n",
       "    fill: #FFFFFF;\n",
       "  }\n",
       "</style>\n",
       "\n",
       "    <script>\n",
       "      async function quickchart(key) {\n",
       "        const containerElement = document.querySelector('#' + key);\n",
       "        const charts = await google.colab.kernel.invokeFunction(\n",
       "            'suggestCharts', [key], {});\n",
       "      }\n",
       "    </script>\n",
       "\n",
       "      <script>\n",
       "\n",
       "function displayQuickchartButton(domScope) {\n",
       "  let quickchartButtonEl =\n",
       "    domScope.querySelector('#df-1cdb4d99-7faf-4881-86e4-ab217b17b734 button.colab-df-quickchart');\n",
       "  quickchartButtonEl.style.display =\n",
       "    google.colab.kernel.accessAllowed ? 'block' : 'none';\n",
       "}\n",
       "\n",
       "        displayQuickchartButton(document);\n",
       "      </script>\n",
       "      <style>\n",
       "    .colab-df-container {\n",
       "      display:flex;\n",
       "      flex-wrap:wrap;\n",
       "      gap: 12px;\n",
       "    }\n",
       "\n",
       "    .colab-df-convert {\n",
       "      background-color: #E8F0FE;\n",
       "      border: none;\n",
       "      border-radius: 50%;\n",
       "      cursor: pointer;\n",
       "      display: none;\n",
       "      fill: #1967D2;\n",
       "      height: 32px;\n",
       "      padding: 0 0 0 0;\n",
       "      width: 32px;\n",
       "    }\n",
       "\n",
       "    .colab-df-convert:hover {\n",
       "      background-color: #E2EBFA;\n",
       "      box-shadow: 0px 1px 2px rgba(60, 64, 67, 0.3), 0px 1px 3px 1px rgba(60, 64, 67, 0.15);\n",
       "      fill: #174EA6;\n",
       "    }\n",
       "\n",
       "    [theme=dark] .colab-df-convert {\n",
       "      background-color: #3B4455;\n",
       "      fill: #D2E3FC;\n",
       "    }\n",
       "\n",
       "    [theme=dark] .colab-df-convert:hover {\n",
       "      background-color: #434B5C;\n",
       "      box-shadow: 0px 1px 3px 1px rgba(0, 0, 0, 0.15);\n",
       "      filter: drop-shadow(0px 1px 2px rgba(0, 0, 0, 0.3));\n",
       "      fill: #FFFFFF;\n",
       "    }\n",
       "  </style>\n",
       "\n",
       "      <script>\n",
       "        const buttonEl =\n",
       "          document.querySelector('#df-0593b47f-7383-4e77-b967-f80f2ba85f9b button.colab-df-convert');\n",
       "        buttonEl.style.display =\n",
       "          google.colab.kernel.accessAllowed ? 'block' : 'none';\n",
       "\n",
       "        async function convertToInteractive(key) {\n",
       "          const element = document.querySelector('#df-0593b47f-7383-4e77-b967-f80f2ba85f9b');\n",
       "          const dataTable =\n",
       "            await google.colab.kernel.invokeFunction('convertToInteractive',\n",
       "                                                     [key], {});\n",
       "          if (!dataTable) return;\n",
       "\n",
       "          const docLinkHtml = 'Like what you see? Visit the ' +\n",
       "            '<a target=\"_blank\" href=https://colab.research.google.com/notebooks/data_table.ipynb>data table notebook</a>'\n",
       "            + ' to learn more about interactive tables.';\n",
       "          element.innerHTML = '';\n",
       "          dataTable['output_type'] = 'display_data';\n",
       "          await google.colab.output.renderOutput(dataTable, element);\n",
       "          const docLink = document.createElement('div');\n",
       "          docLink.innerHTML = docLinkHtml;\n",
       "          element.appendChild(docLink);\n",
       "        }\n",
       "      </script>\n",
       "    </div>\n",
       "  </div>\n"
      ],
      "text/plain": [
       "     1   2   3   4   5   6   7   8   9  10\n",
       "0    1  76   4  96   0  42   0   0  45  51\n",
       "1    5   0  48  25  72  85  36   0  75   0\n",
       "2    8   0  13   0   0   0  93   0  66  83\n",
       "3   79   0  75   0  31   0  83   0  14   0\n",
       "4    1  21  36  70  42  97   0   0  18  18\n",
       "5   63   0   0  86  77   0  19   0  43  15\n",
       "6   57  97  18  54  23   0  63   0   2  49\n",
       "7   80  82  86  91   0  81  96   0  50   0\n",
       "8   75  91  70  94  38  26   0   0  38  81\n",
       "9   19  79  30  43  62   7  40   0  76   9\n",
       "10  96  48  27   0   4  45   0   0  56   0\n",
       "11   9  85  68  36  38  12  67   0  63  28\n",
       "12   3   0  69  53   2  32   0   0  18  91\n",
       "13  21  10   0   0  71   0  89   0  52  29\n",
       "14  10  50   9  23  65  77  93   0   2  58\n",
       "15  31  34   0   0  23   0   0   0  10   0\n",
       "16  15  28  27   1   0  20  12   0  11  21\n",
       "17  19  41  36   0  13  36   0  50  59  80\n",
       "18  67  48   6  54  86  20   0   0  34  53"
      ]
     },
     "execution_count": 37,
     "metadata": {},
     "output_type": "execute_result"
    }
   ],
   "source": [
    "les_dataset[0]"
   ]
  },
  {
   "cell_type": "code",
   "execution_count": null,
   "id": "b89faf54",
   "metadata": {
    "colab": {
     "base_uri": "https://localhost:8080/",
     "height": 423
    },
    "id": "b89faf54",
    "outputId": "66d491a6-97af-4ce1-ff16-9cddde9dba91"
   },
   "outputs": [
    {
     "name": "stdout",
     "output_type": "stream",
     "text": [
      "------------------------------------------ Statistique de Grite ---------------------------------------------\n"
     ]
    },
    {
     "data": {
      "text/plain": [
       "<matplotlib.legend.Legend at 0x7f3924118310>"
      ]
     },
     "execution_count": 38,
     "metadata": {},
     "output_type": "execute_result"
    },
    {
     "data": {
      "image/png": "[encoded data removed]",
      "text/plain": [
       "<Figure size 900x400 with 1 Axes>"
      ]
     },
     "metadata": {},
     "output_type": "display_data"
    }
   ],
   "source": [
    "print('------------------------------------------ Statistique de Grite ---------------------------------------------')\n",
    "min_sup = []\n",
    "ram1,ram2 = [],[]\n",
    "plt.figure(figsize=(9, 4))\n",
    "for sup in range(3, len(les_dataset[0])):\n",
    "        ram_num1 = psutil.virtual_memory()[2]\n",
    "        patterns = generatItemsetPatternGrite(les_dataset[0], sup)\n",
    "        ram1.append(ram_num1)\n",
    "\n",
    "        ram_num2 = psutil.virtual_memory()[2]\n",
    "        patterns, nbr = generatItemsetPatternMotifGrite(les_dataset[0], sup)\n",
    "        ram_num2 = psutil.virtual_memory()[2]\n",
    "        ram2.append(ram_num2)\n",
    "        min_sup.append((sup/19)*100)\n",
    "\n",
    "plt.xlabel('minsup (%)')\n",
    "plt.ylabel('ram consumtion')\n",
    "plt.plot(min_sup, ram1, min_sup, ram2, marker= 'o')\n",
    "plt.legend(['without cond', 'with cond'])\n"
   ]
  },
  {
   "cell_type": "code",
   "execution_count": null,
   "id": "bc883c31",
   "metadata": {
    "id": "bc883c31"
   },
   "outputs": [],
   "source": [
    "print('------------------------------------------ Statistique de Grite ---------------------------------------------')\n",
    "min_sup = []\n",
    "ram1,ram2 = [],[]\n",
    "plt.figure(figsize=(18, 10))\n",
    "for i_data in range(len(datasets)):\n",
    "    for sup in range(3, len(les_dataset[i_data])):\n",
    "        ram_num1 = psutil.virtual_memory()[2]\n",
    "        patterns = generatItemsetPatternGrite(les_dataset[i_data], sup)\n",
    "        ram_num2 = psutil.virtual_memory()[2]\n",
    "        ram1.append(abs(ram_num2-ram_num1)*100)\n",
    "\n",
    "        ram_num1 = psutil.virtual_memory()[2]\n",
    "        patterns, nbr = generatItemsetPatternMotifGrite(les_dataset[i_data], sup)\n",
    "        ram_num2 = psutil.virtual_memory()[2]\n",
    "        ram2.append(abs(ram_num2-ram_num1)*100)\n",
    "        min_sup.append(sup)\n",
    "\n",
    "    plt.title(f'dataset {i_data+1}')\n",
    "    plt.grid(color='red', linestyle='--')\n",
    "    plt.xlabel('minsup')\n",
    "    plt.ylabel('ram consumtion')\n",
    "    plt.plot(min_sup, ram1, min_sup, ram2, marker= 'o')\n",
    "    plt.legend(['without cond', 'with cond'])\n",
    "    min_sup = []\n",
    "    ram1 = []\n",
    "    ram2 = []"
   ]
  },
  {
   "cell_type": "markdown",
   "id": "11ea85fa",
   "metadata": {
    "id": "11ea85fa"
   },
   "source": [
    "# execution a tres grand echelle (ce qu'il faut tester sur des machine puissante)"
   ]
  },
  {
   "cell_type": "code",
   "execution_count": null,
   "id": "b0d1eec3",
   "metadata": {
    "id": "b0d1eec3"
   },
   "outputs": [],
   "source": [
    "datasets = ['datasets/dataset8.csv']"
   ]
  },
  {
   "cell_type": "code",
   "execution_count": null,
   "id": "d2b18f7a",
   "metadata": {
    "id": "d2b18f7a"
   },
   "outputs": [],
   "source": [
    "les_dataset = list(map(lambda x: pd.read_csv(x, sep=' '), datasets))"
   ]
  },
  {
   "cell_type": "code",
   "execution_count": null,
   "id": "3c93b947",
   "metadata": {
    "id": "3c93b947"
   },
   "outputs": [],
   "source": [
    "les_dataset[0]"
   ]
  },
  {
   "cell_type": "code",
   "execution_count": null,
   "id": "e4d43bba",
   "metadata": {
    "id": "e4d43bba"
   },
   "outputs": [],
   "source": [
    "print('------------------------------------------ Statistique de Srite ---------------------------------------------')\n",
    "min_sup = []\n",
    "times1 = []\n",
    "times2 = []\n",
    "plt.figure(figsize=(18, 10))\n",
    "# for i_data in range(len(datasets)):\n",
    "for sup in range(3, len(les_dataset[2])):\n",
    "        temps2 = time.time()\n",
    "        patterns = generatItemsetPattern(les_dataset[2], sup)\n",
    "        temps2 = time.time()\n",
    "\n",
    "        times1.append(temps2 - temps1)\n",
    "\n",
    "        temps1 = time.time()\n",
    "        patterns, nbr = generatItemsetPatternModif(les_dataset[2], sup)\n",
    "        temps2 = time.time()\n",
    "\n",
    "        times2.append(temps2 - temps1)\n",
    "\n",
    "        min_sup.append(sup)\n",
    "\n",
    "plt.title(f'dataset {i_data+1}')\n",
    "plt.grid(color='red', linestyle='--')\n",
    "plt.xlabel('minsup')\n",
    "plt.ylabel('times')\n",
    "plt.plot(min_sup, times1, min_sup, times2, marker= 'o')\n",
    "plt.legend(['without cond', 'with cond'])\n",
    "min_sup = []\n",
    "times2 = []\n",
    "times1 = []"
   ]
  },
  {
   "cell_type": "code",
   "execution_count": null,
   "id": "0a8f6efa",
   "metadata": {
    "id": "0a8f6efa"
   },
   "outputs": [],
   "source": []
  }
 ],
 "metadata": {
  "colab": {
   "provenance": []
  },
  "kernelspec": {
   "display_name": "Python 3 (ipykernel)",
   "language": "python",
   "name": "python3"
  },
  "language_info": {
   "codemirror_mode": {
    "name": "ipython",
    "version": 3
   },
   "file_extension": ".py",
   "mimetype": "text/x-python",
   "name": "python",
   "nbconvert_exporter": "python",
   "pygments_lexer": "ipython3",
   "version": "3.10.9"
  }
 },
 "nbformat": 4,
 "nbformat_minor": 5
}
